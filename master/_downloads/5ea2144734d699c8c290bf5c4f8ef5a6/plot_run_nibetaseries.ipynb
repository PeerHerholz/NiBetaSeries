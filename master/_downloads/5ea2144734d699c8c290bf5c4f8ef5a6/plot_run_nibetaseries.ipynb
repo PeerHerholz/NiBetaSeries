{
  "cells": [
    {
      "cell_type": "code",
      "execution_count": null,
      "metadata": {
        "collapsed": false
      },
      "outputs": [],
      "source": [
        "%matplotlib inline"
      ]
    },
    {
      "cell_type": "markdown",
      "metadata": {},
      "source": [
        "\nRunning NiBetaSeries using ds000164 (Stroop Task)\n===============================================================\n\nThis example runs through a basic call of NiBetaSeries using\nthe commandline entry point ``nibs``.\nWhile this example is using python, typically `nibs` will be\ncalled directly on the commandline.\n\nTo run this locally, you also need ``awscli`` installed via\n``pip install awscli``\n\n"
      ]
    },
    {
      "cell_type": "markdown",
      "metadata": {},
      "source": [
        "Import all the necessary packages\n=================================\n\n"
      ]
    },
    {
      "cell_type": "code",
      "execution_count": null,
      "metadata": {
        "collapsed": false
      },
      "outputs": [],
      "source": [
        "import tempfile  # make a temporary directory for files\nimport os  # interact with the filesystem\nfrom subprocess import call, Popen, PIPE, STDOUT  # enable calling commandline\n\nimport matplotlib.pyplot as plt  # manipulate figures\nimport seaborn as sns  # display results\nimport pandas as pd   # manipulate tabular data\nfrom datalad.api import install  # use datalad for file retrieval"
      ]
    },
    {
      "cell_type": "markdown",
      "metadata": {},
      "source": [
        "Download relevant data from ds000164\n====================================\n\n"
      ]
    },
    {
      "cell_type": "code",
      "execution_count": null,
      "metadata": {
        "collapsed": false
      },
      "outputs": [],
      "source": [
        "data_dir = tempfile.mkdtemp()\nprint('Our working directory: {}'.format(data_dir))\n\n# here on openneuro: https://openneuro.org/datasets/ds000164/versions/00001\n# I'm using openfmri since I'm getting an error with openneuro\ndataset = install(data_dir, \"///openfmri/ds000164\")\n\n# selecting subject that has fmriprep\nbids_data = os.path.join(\"sub-001\", \"func\")\ndataset.get(bids_data)\nevents_file = os.path.join(dataset.path, bids_data,\n                           \"sub-001_task-stroop_events.tsv\")\nprint(\"the events file: {}\".format(events_file))"
      ]
    },
    {
      "cell_type": "markdown",
      "metadata": {},
      "source": [
        "Manipulate events file so it satifies assumptions\n=================================================\n1. the correct column has 1's and 0's corresponding to correct and incorrect,\nrespectively.\n2. the condition column is renamed to trial_type\n\n"
      ]
    },
    {
      "cell_type": "markdown",
      "metadata": {},
      "source": [
        "read the file\n-------------\n\n"
      ]
    },
    {
      "cell_type": "code",
      "execution_count": null,
      "metadata": {
        "collapsed": false
      },
      "outputs": [],
      "source": [
        "events_df = pd.read_csv(events_file, sep='\\t', na_values=\"n/a\")\nevents_df.head()"
      ]
    },
    {
      "cell_type": "markdown",
      "metadata": {},
      "source": [
        "change the Y/N to 1/0\n---------------------\n\n"
      ]
    },
    {
      "cell_type": "code",
      "execution_count": null,
      "metadata": {
        "collapsed": false
      },
      "outputs": [],
      "source": [
        "events_df['correct'].replace({\"Y\": 1, \"N\": 0}, inplace=True)\nevents_df.head()"
      ]
    },
    {
      "cell_type": "markdown",
      "metadata": {},
      "source": [
        "replace condition with trial_type\n---------------------------------\n\n"
      ]
    },
    {
      "cell_type": "code",
      "execution_count": null,
      "metadata": {
        "collapsed": false
      },
      "outputs": [],
      "source": [
        "events_df.rename({\"condition\": \"trial_type\"}, axis='columns', inplace=True)\nevents_df.head()"
      ]
    },
    {
      "cell_type": "markdown",
      "metadata": {},
      "source": [
        "save the file\n-------------\nfiles tracked by git-annex need to be unlocked\n\n"
      ]
    },
    {
      "cell_type": "code",
      "execution_count": null,
      "metadata": {
        "collapsed": false
      },
      "outputs": [],
      "source": [
        "dataset.unlock(events_file)\n# save the updated event file\nevents_df.to_csv(events_file, sep=\"\\t\", na_rep=\"n/a\", index=False)\n# git-annex the file\ndataset.save(events_file)"
      ]
    },
    {
      "cell_type": "markdown",
      "metadata": {},
      "source": [
        "Download the fmriprep results\n=============================\n\n"
      ]
    },
    {
      "cell_type": "code",
      "execution_count": null,
      "metadata": {
        "collapsed": false
      },
      "outputs": [],
      "source": [
        "fmriprep_res = \"\"\"s3://openneuro.outputs/\\\n921294bd5b869b1852ab3ce886583795/4dd151e3-52d1-4fa2-9591-27c16520331c\"\"\"\n\n# datalad command currently not working\n# dataset.download_url(fmriprep_res)\n# depends on user having awscli installed: https://pypi.org/project/awscli/\ncall([\n      'aws',\n      '--no-sign-request',\n      's3',\n      'sync',\n      fmriprep_res,\n      os.path.join(data_dir, 'derivatives')\n     ])\n\n# path to the downloaded results\nfmriprep_path = os.path.join(dataset.path, \"derivatives\", \"fmriprep\", \"sub-001\", \"func\")\n# display the files\nos.listdir(fmriprep_path)"
      ]
    },
    {
      "cell_type": "markdown",
      "metadata": {},
      "source": [
        "Download a parcelation atlas and region order file\n==================================================\n\n"
      ]
    },
    {
      "cell_type": "code",
      "execution_count": null,
      "metadata": {
        "collapsed": false
      },
      "outputs": [],
      "source": [
        "# Download the schaefer atlas: https://www.ncbi.nlm.nih.gov/pubmed/28981612\nschaefer_base_url = \"\"\"https://github.com/ThomasYeoLab/CBIG/raw/master/stable_projects/\\\nbrain_parcellation/Schaefer2018_LocalGlobal/Parcellations/MNI/\"\"\"\nschaefer_mni = \"Schaefer2018_100Parcels_7Networks_order_FSLMNI152_2mm.nii.gz\"\nschaefer_txt = \"Schaefer2018_100Parcels_7Networks_order.txt\"\nschaefer_mni_url = schaefer_base_url + schaefer_mni\nschaefer_txt_url = schaefer_base_url + schaefer_txt\ndownload_dir = os.path.join(dataset.path, \"derivatives\", \"data\")\nos.makedirs(download_dir, exist_ok=True)\ndataset.download_url([schaefer_mni_url, schaefer_txt_url],\n                     path=download_dir,\n                     overwrite=True)\n# specify the nifti file\natlas_mni_file = os.path.join(download_dir, schaefer_mni)"
      ]
    },
    {
      "cell_type": "markdown",
      "metadata": {},
      "source": [
        "Manipulate the region order file\n================================\n\n"
      ]
    },
    {
      "cell_type": "markdown",
      "metadata": {},
      "source": [
        "read the atlas file\n-------------------\n\n"
      ]
    },
    {
      "cell_type": "code",
      "execution_count": null,
      "metadata": {
        "collapsed": false
      },
      "outputs": [],
      "source": [
        "atlas_txt = os.path.join(download_dir, schaefer_txt)\natlas_df = pd.read_csv(atlas_txt, sep=\"\\t\", header=None)\natlas_df.head()"
      ]
    },
    {
      "cell_type": "markdown",
      "metadata": {},
      "source": [
        "drop coordinate columns\n-----------------------\n\n"
      ]
    },
    {
      "cell_type": "code",
      "execution_count": null,
      "metadata": {
        "collapsed": false
      },
      "outputs": [],
      "source": [
        "atlas_df.drop([2, 3, 4, 5], axis='columns', inplace=True)\natlas_df.head()"
      ]
    },
    {
      "cell_type": "markdown",
      "metadata": {},
      "source": [
        "rename columns with the approved headings: \"index\" and \"regions\"\n----------------------------------------------------------------\n\n"
      ]
    },
    {
      "cell_type": "code",
      "execution_count": null,
      "metadata": {
        "collapsed": false
      },
      "outputs": [],
      "source": [
        "atlas_df.rename({0: 'index', 1: 'regions'}, axis='columns', inplace=True)\natlas_df.head()"
      ]
    },
    {
      "cell_type": "markdown",
      "metadata": {},
      "source": [
        "remove prefix \"7Networks\"\n-------------------------\n\n"
      ]
    },
    {
      "cell_type": "code",
      "execution_count": null,
      "metadata": {
        "collapsed": false
      },
      "outputs": [],
      "source": [
        "atlas_df.replace(regex={'7Networks_(.*)': '\\\\1'}, inplace=True)\natlas_df.head()"
      ]
    },
    {
      "cell_type": "markdown",
      "metadata": {},
      "source": [
        "write out the file\n------------------\n\n"
      ]
    },
    {
      "cell_type": "code",
      "execution_count": null,
      "metadata": {
        "collapsed": false
      },
      "outputs": [],
      "source": [
        "atlas_tsv = atlas_txt.replace(\".txt\", \".tsv\")\natlas_df.to_csv(atlas_tsv, sep=\"\\t\", index=False)"
      ]
    },
    {
      "cell_type": "markdown",
      "metadata": {},
      "source": [
        "Run nibs\n========\n\n"
      ]
    },
    {
      "cell_type": "code",
      "execution_count": null,
      "metadata": {
        "collapsed": false
      },
      "outputs": [],
      "source": [
        "out_dir = os.path.join(dataset.path, \"derivatives\")\ncmd = \"\"\"\\\nnibs -c WhiteMatter CSF \\\n--participant_label 001 \\\n-a {atlas_mni_file} \\\n-l {atlas_tsv} \\\n{bids_dir} \\\nfmriprep \\\n{out_dir} \\\nparticipant\n\"\"\".format(atlas_mni_file=atlas_mni_file,\n           atlas_tsv=atlas_tsv,\n           bids_dir=dataset.path,\n           out_dir=out_dir)\n# call nibs\np = Popen(cmd, shell=True, stdout=PIPE, stderr=STDOUT)\n\nwhile True:\n    line = p.stdout.readline()\n    if not line:\n        break\n    print(line)"
      ]
    },
    {
      "cell_type": "markdown",
      "metadata": {},
      "source": [
        "Collect results\n===============\n\n"
      ]
    },
    {
      "cell_type": "code",
      "execution_count": null,
      "metadata": {
        "collapsed": false
      },
      "outputs": [],
      "source": [
        "corr_mat_path = os.path.join(out_dir, \"NiBetaSeries\", \"nibetaseries\", \"sub-001\", \"func\")\ntrial_types = ['congruent', 'incongruent', 'neutral']\nfilename_template = \"sub-001_task-stroop_bold_space-MNI152NLin2009cAsym_preproc_trialtype-{trial_type}_matrix.tsv\"\npd_dict = {}\nfor trial_type in trial_types:\n    file_path = os.path.join(corr_mat_path, filename_template.format(trial_type=trial_type))\n    pd_dict[trial_type] = pd.read_csv(file_path, sep='\\t', na_values=\"n/a\", index_col=0)\n# display example matrix\npd_dict[trial_type].head()"
      ]
    },
    {
      "cell_type": "markdown",
      "metadata": {},
      "source": [
        "Graph the results\n=================\n\n"
      ]
    },
    {
      "cell_type": "code",
      "execution_count": null,
      "metadata": {
        "collapsed": false
      },
      "outputs": [],
      "source": [
        "fig, axes = plt.subplots(nrows=3, ncols=1, sharex=True, sharey=True, figsize=(10, 30),\n                         gridspec_kw={'wspace': 0.025, 'hspace': 0.075})\n\ncbar_ax = fig.add_axes([.91, .3, .03, .4])\nr = 0\nfor trial_type, df in pd_dict.items():\n    g = sns.heatmap(df, ax=axes[r], vmin=-.5, vmax=1., square=True,\n                    cbar=True, cbar_ax=cbar_ax)\n    axes[r].set_title(trial_type)\n    # iterate over rows\n    r += 1\nplt.tight_layout()"
      ]
    }
  ],
  "metadata": {
    "kernelspec": {
      "display_name": "Python 3",
      "language": "python",
      "name": "python3"
    },
    "language_info": {
      "codemirror_mode": {
        "name": "ipython",
        "version": 3
      },
      "file_extension": ".py",
      "mimetype": "text/x-python",
      "name": "python",
      "nbconvert_exporter": "python",
      "pygments_lexer": "ipython3",
      "version": "3.6.7"
    }
  },
  "nbformat": 4,
  "nbformat_minor": 0
}